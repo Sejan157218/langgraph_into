{
 "cells": [
  {
   "cell_type": "code",
   "execution_count": 1,
   "id": "9af948a6",
   "metadata": {},
   "outputs": [],
   "source": [
    "\n",
    "import warnings\n",
    "# Suppress all warnings\n",
    "warnings.filterwarnings(\"ignore\")"
   ]
  },
  {
   "cell_type": "code",
   "execution_count": 3,
   "id": "21502e68",
   "metadata": {},
   "outputs": [],
   "source": [
    "import os\n",
    "from dotenv import load_dotenv\n",
    "load_dotenv()\n",
    "GROQ_API_KEY=os.getenv(\"GROQ_API_KEY\")"
   ]
  },
  {
   "cell_type": "code",
   "execution_count": 4,
   "id": "e141e9ad",
   "metadata": {},
   "outputs": [],
   "source": [
    "from typing import Annotated, Literal, Sequence, TypedDict\n",
    "from langchain import hub\n",
    "from langchain_core.messages import BaseMessage, HumanMessage\n",
    "from langchain_core.output_parsers import StrOutputParser\n",
    "from langchain_core.prompts import PromptTemplate\n",
    "from langchain_core.pydantic_v1 import BaseModel, Field\n",
    "from langgraph.graph.message import add_messages\n",
    "from langgraph.prebuilt import tools_condition\n",
    "from langchain_community.document_loaders import WebBaseLoader\n",
    "from langchain_community.vectorstores import Chroma\n",
    "from langchain_text_splitters import RecursiveCharacterTextSplitter\n",
    "from langchain.tools.retriever import create_retriever_tool\n",
    "from langgraph.graph import END, StateGraph, START\n",
    "from langgraph.prebuilt import ToolNode"
   ]
  },
  {
   "cell_type": "code",
   "execution_count": 7,
   "id": "02c885a6",
   "metadata": {},
   "outputs": [],
   "source": [
    "from langchain_huggingface import HuggingFaceEmbeddings\n",
    "embeddings=HuggingFaceEmbeddings(model_name=\"all-MiniLM-L6-v2\")\n",
    "from langchain_groq import ChatGroq\n",
    "llm=ChatGroq(model_name=\"Gemma2-9b-It\")"
   ]
  },
  {
   "cell_type": "code",
   "execution_count": 8,
   "id": "6d1b6e30",
   "metadata": {},
   "outputs": [
    {
     "data": {
      "text/plain": [
       "AIMessage(content=\"I'm doing well, thank you! As an AI, I don't have feelings, but I'm ready to assist you. How can I help you today?\\n\", additional_kwargs={}, response_metadata={'token_usage': {'completion_tokens': 39, 'prompt_tokens': 15, 'total_tokens': 54, 'completion_time': 0.070909091, 'prompt_time': 0.00124834, 'queue_time': 0.247630801, 'total_time': 0.072157431}, 'model_name': 'Gemma2-9b-It', 'system_fingerprint': 'fp_10c08bf97d', 'service_tier': 'on_demand', 'finish_reason': 'stop', 'logprobs': None}, id='run--dd80d6cb-9a59-4642-8430-d84d567b1eb2-0', usage_metadata={'input_tokens': 15, 'output_tokens': 39, 'total_tokens': 54})"
      ]
     },
     "execution_count": 8,
     "metadata": {},
     "output_type": "execute_result"
    }
   ],
   "source": [
    "llm.invoke(\"hi hello how are you?\")"
   ]
  },
  {
   "cell_type": "code",
   "execution_count": 9,
   "id": "7bea8ef8",
   "metadata": {},
   "outputs": [],
   "source": [
    "\n",
    "url= \"https://lilianweng.github.io/posts/2023-06-23-agent/\""
   ]
  },
  {
   "cell_type": "code",
   "execution_count": 12,
   "id": "1507d66f",
   "metadata": {},
   "outputs": [],
   "source": [
    "urls = [\n",
    "    \"https://lilianweng.github.io/posts/2023-06-23-agent/\",\n",
    "    \"https://lilianweng.github.io/posts/2023-03-15-prompt-engineering/\",\n",
    "]"
   ]
  },
  {
   "cell_type": "code",
   "execution_count": 13,
   "id": "1d86f8c1",
   "metadata": {},
   "outputs": [],
   "source": [
    "docs = [WebBaseLoader(url).load() for url in urls]"
   ]
  },
  {
   "cell_type": "code",
   "execution_count": 19,
   "id": "8e3ceda3",
   "metadata": {},
   "outputs": [],
   "source": [
    "docs_list = [item for sublist in docs for item in sublist]"
   ]
  },
  {
   "cell_type": "code",
   "execution_count": 20,
   "id": "a0b05087",
   "metadata": {},
   "outputs": [],
   "source": [
    "text_splitter=RecursiveCharacterTextSplitter.from_tiktoken_encoder(chunk_size=100, chunk_overlap=5)"
   ]
  },
  {
   "cell_type": "code",
   "execution_count": 21,
   "id": "88256d35",
   "metadata": {},
   "outputs": [],
   "source": [
    "doc_splits=text_splitter.split_documents(docs_list)"
   ]
  },
  {
   "cell_type": "code",
   "execution_count": 24,
   "id": "7e3105a8",
   "metadata": {},
   "outputs": [],
   "source": [
    "\n",
    "vectorstore=Chroma.from_documents(\n",
    "    documents=doc_splits,\n",
    "    collection_name=\"rag-chrome\",\n",
    "    embedding=embeddings\n",
    "    \n",
    ")"
   ]
  },
  {
   "cell_type": "code",
   "execution_count": 25,
   "id": "171fef97",
   "metadata": {},
   "outputs": [],
   "source": [
    "\n",
    "retriever=vectorstore.as_retriever()"
   ]
  },
  {
   "cell_type": "code",
   "execution_count": 26,
   "id": "67e92c8e",
   "metadata": {},
   "outputs": [],
   "source": [
    "retriever_tool = create_retriever_tool(\n",
    "    retriever,\n",
    "    \"retrieve_blog_posts\",\n",
    "    \"Search and return information about Lilian Weng blog posts on LLM agents, prompt engineering, and adversarial attacks on LLMs.You are a specialized assistant. Use the 'retriever_tool' **only** when the query explicitly relates to LangChain blog data. For all other queries, respond directly without using any tool. For simple queries like 'hi', 'hello', or 'how are you', provide a normal response.\",\n",
    "    \n",
    ")"
   ]
  },
  {
   "cell_type": "code",
   "execution_count": 27,
   "id": "1cfbc82b",
   "metadata": {},
   "outputs": [],
   "source": [
    "tools=[retriever_tool]"
   ]
  },
  {
   "cell_type": "code",
   "execution_count": 28,
   "id": "847cf1e3",
   "metadata": {},
   "outputs": [],
   "source": [
    "retrieve=ToolNode([retriever_tool])"
   ]
  },
  {
   "cell_type": "code",
   "execution_count": 29,
   "id": "9e203cb7",
   "metadata": {},
   "outputs": [],
   "source": [
    "llm_with_tools=llm.bind_tools(tools)"
   ]
  },
  {
   "cell_type": "code",
   "execution_count": 34,
   "id": "27fa3170",
   "metadata": {},
   "outputs": [],
   "source": [
    "# llm_with_tools.invoke([\"waht is Agent System Overview?\"])"
   ]
  },
  {
   "cell_type": "code",
   "execution_count": 35,
   "id": "2428c107",
   "metadata": {},
   "outputs": [],
   "source": [
    "class AgentState(TypedDict):\n",
    "    messages: Annotated[Sequence[BaseMessage], add_messages]"
   ]
  },
  {
   "cell_type": "code",
   "execution_count": 36,
   "id": "308feafd",
   "metadata": {},
   "outputs": [
    {
     "data": {
      "text/plain": [
       "'def handle_query(query):\\n    print(query[0])\\n    if \"prompt\" in query[0] or \"agent\" in query[0]:\\n        return llm_with_tools.invoke(query)  # Use tool-bound LLM\\n    else:\\n        return llm.invoke(query)  # Use LLM directly without tool'"
      ]
     },
     "execution_count": 36,
     "metadata": {},
     "output_type": "execute_result"
    }
   ],
   "source": [
    "'''def handle_query(query):\n",
    "    print(query[0])\n",
    "    if \"prompt\" in query[0] or \"agent\" in query[0]:\n",
    "        return llm_with_tools.invoke(query)  # Use tool-bound LLM\n",
    "    else:\n",
    "        return llm.invoke(query)  # Use LLM directly without tool'''"
   ]
  },
  {
   "cell_type": "code",
   "execution_count": 37,
   "id": "a50535de",
   "metadata": {},
   "outputs": [],
   "source": [
    "def ai_assistant(state:AgentState):\n",
    "    print(\"---CALL AGENT---\")\n",
    "    messages = state['messages']\n",
    "    print(f\"this is my message: {messages}\")\n",
    "    \n",
    "    if len(messages)>1:\n",
    "        response=llm.invoke(messages[-1].content)\n",
    "        return {\"messages\": [response]}\n",
    "    else:\n",
    "        llm_with_tool = llm.bind_tools(tools)\n",
    "        response = llm_with_tool.invoke(messages)\n",
    "        #response=handle_query(messages)\n",
    "        return {\"messages\": [response]}"
   ]
  },
  {
   "cell_type": "code",
   "execution_count": 40,
   "id": "69caec20",
   "metadata": {},
   "outputs": [
    {
     "name": "stdout",
     "output_type": "stream",
     "text": [
      "---CALL AGENT---\n",
      "this is my message: ['what is autonomous agent']\n"
     ]
    },
    {
     "data": {
      "text/plain": [
       "{'messages': [AIMessage(content='', additional_kwargs={'tool_calls': [{'id': 'ej3m4zmbj', 'function': {'arguments': '{\"query\":\"autonomous agent\"}', 'name': 'retrieve_blog_posts'}, 'type': 'function'}]}, response_metadata={'token_usage': {'completion_tokens': 85, 'prompt_tokens': 1036, 'total_tokens': 1121, 'completion_time': 0.154545455, 'prompt_time': 0.022021952, 'queue_time': 0.253464917, 'total_time': 0.176567407}, 'model_name': 'Gemma2-9b-It', 'system_fingerprint': 'fp_10c08bf97d', 'service_tier': 'on_demand', 'finish_reason': 'tool_calls', 'logprobs': None}, id='run--61848d9b-5456-4b69-816c-abe7c511ead8-0', tool_calls=[{'name': 'retrieve_blog_posts', 'args': {'query': 'autonomous agent'}, 'id': 'ej3m4zmbj', 'type': 'tool_call'}], usage_metadata={'input_tokens': 1036, 'output_tokens': 85, 'total_tokens': 1121})]}"
      ]
     },
     "execution_count": 40,
     "metadata": {},
     "output_type": "execute_result"
    }
   ],
   "source": [
    "ai_assistant({\"messages\":[\"what is autonomous agent\"]})"
   ]
  },
  {
   "cell_type": "code",
   "execution_count": 41,
   "id": "7dce3a05",
   "metadata": {},
   "outputs": [],
   "source": [
    "class grade(BaseModel):\n",
    "    binary_score:str=Field(description=\"Relevance score 'yes' or 'no'\")"
   ]
  },
  {
   "cell_type": "code",
   "execution_count": 42,
   "id": "898d0cb3",
   "metadata": {},
   "outputs": [],
   "source": [
    "def grade_documents(state:AgentState)->Literal[\"Output_Generator\", \"Query_Rewriter\"]:\n",
    "    llm_with_structure_op=llm.with_structured_output(grade)\n",
    "    \n",
    "    prompt=PromptTemplate(\n",
    "        template=\"\"\"You are a grader deciding if a document is relevant to a user’s question.\n",
    "                    Here is the document: {context}\n",
    "                    Here is the user’s question: {question}\n",
    "                    If the document talks about or contains information related to the user’s question, mark it as relevant. \n",
    "                    Give a 'yes' or 'no' answer to show if the document is relevant to the question.\"\"\",\n",
    "                    input_variables=[\"context\", \"question\"]\n",
    "                    )\n",
    "    chain = prompt | llm_with_structure_op\n",
    "    \n",
    "    messages = state[\"messages\"]\n",
    "    print(f\"message from the grader: {messages}\")\n",
    "    last_message = messages[-1]\n",
    "    question = messages[0].content\n",
    "    docs = last_message.content\n",
    "    scored_result = chain.invoke({\"question\": question, \"context\": docs})\n",
    "    score = scored_result.binary_score\n",
    "\n",
    "    if score == \"yes\":\n",
    "        print(\"---DECISION: DOCS RELEVANT---\")\n",
    "        return \"generator\" #this should be a node name\n",
    "    else:\n",
    "        print(\"---DECISION: DOCS NOT RELEVANT---\")\n",
    "        return \"rewriter\" #this should be a node name"
   ]
  },
  {
   "cell_type": "markdown",
   "id": "d6cf9ac0",
   "metadata": {},
   "source": [
    "## from langchain hub we can fetch the prompt"
   ]
  },
  {
   "cell_type": "code",
   "execution_count": 43,
   "id": "6bd33e83",
   "metadata": {},
   "outputs": [],
   "source": [
    "prompt = hub.pull(\"rlm/rag-prompt\")"
   ]
  },
  {
   "cell_type": "code",
   "execution_count": 44,
   "id": "67517b38",
   "metadata": {},
   "outputs": [
    {
     "name": "stdout",
     "output_type": "stream",
     "text": [
      "================================\u001b[1m Human Message \u001b[0m=================================\n",
      "\n",
      "You are an assistant for question-answering tasks. Use the following pieces of retrieved context to answer the question. If you don't know the answer, just say that you don't know. Use three sentences maximum and keep the answer concise.\n",
      "Question: \u001b[33;1m\u001b[1;3m{question}\u001b[0m \n",
      "Context: \u001b[33;1m\u001b[1;3m{context}\u001b[0m \n",
      "Answer:\n"
     ]
    }
   ],
   "source": [
    "prompt.pretty_print()"
   ]
  },
  {
   "cell_type": "code",
   "execution_count": 45,
   "id": "d66108de",
   "metadata": {},
   "outputs": [],
   "source": [
    "def generate(state:AgentState):\n",
    "    print(\"---GENERATE---\")\n",
    "    messages = state[\"messages\"]\n",
    "    \n",
    "    print(f\"here is message from generate: {messages}\")\n",
    "    \n",
    "    question = messages[0].content\n",
    "    last_message = messages[-1]\n",
    "    docs = last_message.content\n",
    "    \n",
    "    prompt = hub.pull(\"rlm/rag-prompt\")\n",
    "    \n",
    "    rag_chain = prompt | llm\n",
    "\n",
    "    response = rag_chain.invoke({\"context\": docs, \"question\": question})\n",
    "    print(f\"this is my response:{response}\")\n",
    "    \n",
    "    return {\"messages\": [response]}"
   ]
  },
  {
   "cell_type": "code",
   "execution_count": 46,
   "id": "53485dde",
   "metadata": {},
   "outputs": [],
   "source": [
    "from langchain_core.messages import  HumanMessage\n",
    "def rewrite(state:AgentState):\n",
    "    print(\"---TRANSFORM QUERY---\")\n",
    "    messages = state[\"messages\"]\n",
    "    question = messages[0].content\n",
    "    \n",
    "    print(f\"here is message from rewrite: {messages}\")\n",
    "    \n",
    "    message = [HumanMessage(content=f\"\"\"Look at the input and try to reason about the underlying semantic intent or meaning. \n",
    "                    Here is the initial question: {question} \n",
    "                    Formulate an improved question: \"\"\")\n",
    "       ]\n",
    "    response = llm.invoke(message)\n",
    "    return {\"messages\": [response]}"
   ]
  },
  {
   "cell_type": "code",
   "execution_count": 47,
   "id": "f0c0f50a",
   "metadata": {},
   "outputs": [
    {
     "data": {
      "text/plain": [
       "<langgraph.graph.state.StateGraph at 0x7f80264d7fa0>"
      ]
     },
     "execution_count": 47,
     "metadata": {},
     "output_type": "execute_result"
    }
   ],
   "source": [
    "workflow=StateGraph(AgentState)\n",
    "workflow.add_node(\"My_AI_Assistant\",ai_assistant)\n",
    "workflow.add_node(\"Vector_Retriever\", retrieve) \n",
    "workflow.add_node(\"Query_Rewriter\", rewrite) \n",
    "workflow.add_node(\"Output_Generator\", generate)"
   ]
  },
  {
   "cell_type": "code",
   "execution_count": 48,
   "id": "3efb75e8",
   "metadata": {},
   "outputs": [
    {
     "data": {
      "text/plain": [
       "<langgraph.graph.state.StateGraph at 0x7f80264d7fa0>"
      ]
     },
     "execution_count": 48,
     "metadata": {},
     "output_type": "execute_result"
    }
   ],
   "source": [
    "workflow.add_edge(START,\"My_AI_Assistant\")"
   ]
  },
  {
   "cell_type": "code",
   "execution_count": 49,
   "id": "008a9067",
   "metadata": {},
   "outputs": [
    {
     "data": {
      "text/plain": [
       "<langgraph.graph.state.StateGraph at 0x7f80264d7fa0>"
      ]
     },
     "execution_count": 49,
     "metadata": {},
     "output_type": "execute_result"
    }
   ],
   "source": [
    "workflow.add_conditional_edges(\"My_AI_Assistant\",\n",
    "                               tools_condition,\n",
    "                               {\"tools\": \"Vector_Retriever\",\n",
    "                                END: END,})"
   ]
  },
  {
   "cell_type": "code",
   "execution_count": 50,
   "id": "616cbca9",
   "metadata": {},
   "outputs": [
    {
     "data": {
      "text/plain": [
       "<langgraph.graph.state.StateGraph at 0x7f80264d7fa0>"
      ]
     },
     "execution_count": 50,
     "metadata": {},
     "output_type": "execute_result"
    }
   ],
   "source": [
    "workflow.add_conditional_edges(\"Vector_Retriever\",\n",
    "                            grade_documents,\n",
    "                            {\"generator\": \"Output_Generator\",\n",
    "                            \"rewriter\": \"Query_Rewriter\"\n",
    "                            }\n",
    "                            )\n",
    "                            "
   ]
  },
  {
   "cell_type": "code",
   "execution_count": 51,
   "id": "ab75f3e9",
   "metadata": {},
   "outputs": [
    {
     "data": {
      "text/plain": [
       "<langgraph.graph.state.StateGraph at 0x7f80264d7fa0>"
      ]
     },
     "execution_count": 51,
     "metadata": {},
     "output_type": "execute_result"
    }
   ],
   "source": [
    "workflow.add_edge(\"Output_Generator\", END)"
   ]
  },
  {
   "cell_type": "code",
   "execution_count": 52,
   "id": "50a0cd98",
   "metadata": {},
   "outputs": [
    {
     "data": {
      "text/plain": [
       "<langgraph.graph.state.StateGraph at 0x7f80264d7fa0>"
      ]
     },
     "execution_count": 52,
     "metadata": {},
     "output_type": "execute_result"
    }
   ],
   "source": [
    "workflow.add_edge(\"Query_Rewriter\", \"My_AI_Assistant\")"
   ]
  },
  {
   "cell_type": "code",
   "execution_count": 53,
   "id": "7514c03c",
   "metadata": {},
   "outputs": [],
   "source": [
    "\n",
    "app=workflow.compile()"
   ]
  },
  {
   "cell_type": "code",
   "execution_count": 54,
   "id": "f1e31744",
   "metadata": {},
   "outputs": [
    {
     "data": {
      "image/png": "[encoded data removed]",
      "text/plain": [
       "<IPython.core.display.Image object>"
      ]
     },
     "metadata": {},
     "output_type": "display_data"
    }
   ],
   "source": [
    "\n",
    "from IPython.display import Image, display\n",
    "\n",
    "try:\n",
    "    display(Image(app.get_graph(xray=True).draw_mermaid_png()))\n",
    "except Exception:\n",
    "    # This requires some extra dependencies and is optional\n",
    "    pass"
   ]
  },
  {
   "cell_type": "code",
   "execution_count": 56,
   "id": "03dfa920",
   "metadata": {},
   "outputs": [],
   "source": [
    "#app.invoke({\"messages\":[\"What is a Autonomous Agent?\"]})"
   ]
  },
  {
   "cell_type": "code",
   "execution_count": null,
   "id": "3b531e95",
   "metadata": {},
   "outputs": [],
   "source": []
  }
 ],
 "metadata": {
  "kernelspec": {
   "display_name": "Python 3",
   "language": "python",
   "name": "python3"
  },
  "language_info": {
   "codemirror_mode": {
    "name": "ipython",
    "version": 3
   },
   "file_extension": ".py",
   "mimetype": "text/x-python",
   "name": "python",
   "nbconvert_exporter": "python",
   "pygments_lexer": "ipython3",
   "version": "3.10.0"
  }
 },
 "nbformat": 4,
 "nbformat_minor": 5
}
