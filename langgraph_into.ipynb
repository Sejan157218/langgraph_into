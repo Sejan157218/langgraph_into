{
 "cells": [
  {
   "cell_type": "code",
   "execution_count": 85,
   "id": "22ed7991",
   "metadata": {},
   "outputs": [
    {
     "data": {
      "text/plain": [
       "True"
      ]
     },
     "execution_count": 85,
     "metadata": {},
     "output_type": "execute_result"
    }
   ],
   "source": [
    "from typing_extensions import TypedDict\n",
    "from typing import Annotated\n",
    "from langgraph.graph.message import add_messages\n",
    "from langgraph.graph import StateGraph\n",
    "from langchain_core.messages import HumanMessage, AIMessage\n",
    "from langchain_groq import ChatGroq\n",
    "from dotenv import load_dotenv\n",
    "import os\n",
    "load_dotenv()"
   ]
  },
  {
   "cell_type": "code",
   "execution_count": 86,
   "id": "cc5afd1d",
   "metadata": {},
   "outputs": [],
   "source": [
    "groq_api_key = os.getenv(\"GROQ_API_KEY\")\n"
   ]
  },
  {
   "cell_type": "code",
   "execution_count": 87,
   "id": "01e8de25",
   "metadata": {},
   "outputs": [],
   "source": [
    "llm  = ChatGroq(groq_api_key=groq_api_key, model_name=\"llama3-70b-8192\")"
   ]
  },
  {
   "cell_type": "code",
   "execution_count": 88,
   "id": "56a991db",
   "metadata": {},
   "outputs": [
    {
     "data": {
      "text/plain": [
       "\"Hi! I'm just a language model, I don't have feelings or emotions like humans do, but I'm functioning properly and ready to help you with any questions or tasks you may have! How can I assist you today?\""
      ]
     },
     "execution_count": 88,
     "metadata": {},
     "output_type": "execute_result"
    }
   ],
   "source": [
    "llm.invoke(\"hi! how are you\").content"
   ]
  },
  {
   "cell_type": "code",
   "execution_count": 89,
   "id": "2714e76f",
   "metadata": {},
   "outputs": [],
   "source": [
    "\n",
    "\n",
    "class State(TypedDict):\n",
    "    messages: Annotated[list, add_messages]\n",
    "\n",
    "\n",
    "def ModelResponse(state: State) -> State:\n",
    "    # Get the last human message\n",
    "    last_message = state[\"messages\"][-1].content\n",
    "    \n",
    "    # Get LLM response\n",
    "    response = llm.invoke(last_message).content\n",
    "    \n",
    "    # Return updated state\n",
    "    return {\"messages\": [AIMessage(content=response)]}\n",
    "\n",
    "def inputUpper(state: State) -> State:\n",
    "    # Get last message and uppercase it\n",
    "    last_message = state[\"messages\"][-1].content\n",
    "    upper_message = last_message.upper()\n",
    "    \n",
    "    # Return updated state\n",
    "    return {\"messages\": [AIMessage(content=upper_message)]}"
   ]
  },
  {
   "cell_type": "code",
   "execution_count": 90,
   "id": "acadd596",
   "metadata": {},
   "outputs": [],
   "source": [
    "workflow = StateGraph(State)"
   ]
  },
  {
   "cell_type": "code",
   "execution_count": 91,
   "id": "033963cd",
   "metadata": {},
   "outputs": [
    {
     "data": {
      "text/plain": [
       "<langgraph.graph.state.StateGraph at 0x7aee5194eb90>"
      ]
     },
     "execution_count": 91,
     "metadata": {},
     "output_type": "execute_result"
    }
   ],
   "source": [
    "workflow.add_node(\"ModelResponse\", ModelResponse)\n",
    "workflow.add_node(\"inputUpper\", inputUpper)\n",
    "workflow.add_edge(\"ModelResponse\", \"inputUpper\")"
   ]
  },
  {
   "cell_type": "code",
   "execution_count": 92,
   "id": "6b4f280d",
   "metadata": {},
   "outputs": [
    {
     "data": {
      "text/plain": [
       "<langgraph.graph.state.StateGraph at 0x7aee5194eb90>"
      ]
     },
     "execution_count": 92,
     "metadata": {},
     "output_type": "execute_result"
    }
   ],
   "source": [
    "workflow.set_entry_point(\"ModelResponse\")"
   ]
  },
  {
   "cell_type": "code",
   "execution_count": 93,
   "id": "69ac3161",
   "metadata": {},
   "outputs": [
    {
     "data": {
      "text/plain": [
       "<langgraph.graph.state.StateGraph at 0x7aee5194eb90>"
      ]
     },
     "execution_count": 93,
     "metadata": {},
     "output_type": "execute_result"
    }
   ],
   "source": [
    "workflow.set_finish_point(\"inputUpper\")"
   ]
  },
  {
   "cell_type": "code",
   "execution_count": 94,
   "id": "3fb4dce1",
   "metadata": {},
   "outputs": [],
   "source": [
    "app = workflow.compile()"
   ]
  },
  {
   "cell_type": "code",
   "execution_count": 95,
   "id": "d96a25ac",
   "metadata": {},
   "outputs": [
    {
     "data": {
      "image/png": "[encoded data removed]",
      "text/plain": [
       "<IPython.core.display.Image object>"
      ]
     },
     "metadata": {},
     "output_type": "display_data"
    }
   ],
   "source": [
    "from IPython.display import Image, display\n",
    "\n",
    "try:\n",
    "    display(Image(app.get_graph().draw_mermaid_png()))\n",
    "except Exception as e:\n",
    "    print(e)"
   ]
  },
  {
   "cell_type": "code",
   "execution_count": 96,
   "id": "c0b20c4f",
   "metadata": {},
   "outputs": [
    {
     "name": "stdout",
     "output_type": "stream",
     "text": [
      "I APOLOGIZE, BUT IT SEEMS LIKE YOU DIDN'T ASK A QUESTION. PLEASE FEEL FREE TO ASK ME ANYTHING, AND I'LL DO MY BEST TO ASSIST YOU!\n"
     ]
    }
   ],
   "source": [
    "response = app.invoke({\"messages\": [HumanMessage(content=\"Your question here\")]})\n",
    "print(response[\"messages\"][-1].content)\n"
   ]
  },
  {
   "cell_type": "code",
   "execution_count": null,
   "id": "518305b9",
   "metadata": {},
   "outputs": [],
   "source": []
  },
  {
   "cell_type": "code",
   "execution_count": null,
   "id": "1f1cec66",
   "metadata": {},
   "outputs": [],
   "source": []
  }
 ],
 "metadata": {
  "kernelspec": {
   "display_name": "Python 3",
   "language": "python",
   "name": "python3"
  },
  "language_info": {
   "codemirror_mode": {
    "name": "ipython",
    "version": 3
   },
   "file_extension": ".py",
   "mimetype": "text/x-python",
   "name": "python",
   "nbconvert_exporter": "python",
   "pygments_lexer": "ipython3",
   "version": "3.11.3"
  }
 },
 "nbformat": 4,
 "nbformat_minor": 5
}
