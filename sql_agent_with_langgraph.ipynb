{
 "cells": [
  {
   "cell_type": "code",
   "execution_count": 1,
   "id": "0bd8c44d",
   "metadata": {},
   "outputs": [],
   "source": [
    "import sqlite3"
   ]
  },
  {
   "cell_type": "code",
   "execution_count": 2,
   "id": "381cad66",
   "metadata": {},
   "outputs": [],
   "source": [
    "connection = sqlite3.connect('mydb.db')"
   ]
  },
  {
   "cell_type": "code",
   "execution_count": 3,
   "id": "ad8a80b5",
   "metadata": {},
   "outputs": [
    {
     "data": {
      "text/plain": [
       "<sqlite3.Connection at 0x72fe4c02ab60>"
      ]
     },
     "execution_count": 3,
     "metadata": {},
     "output_type": "execute_result"
    }
   ],
   "source": [
    "connection"
   ]
  },
  {
   "cell_type": "code",
   "execution_count": 4,
   "id": "f56af2a1",
   "metadata": {},
   "outputs": [],
   "source": [
    "table_creation_query = \"\"\"\n",
    "CREATE TABLE IF NOT EXISTS employees(\n",
    "    emp_id INTEGER PRIMARY KEY,\n",
    "    first_name TEXT NOT NULL,\n",
    "    last_name TEXT NOT NULL,\n",
    "    email TEXT UNIQUE NOT NULL,\n",
    "    hire_date TEXT NOT NULL,\n",
    "    salary REAL NOT NULL\n",
    ");\n",
    "\"\"\""
   ]
  },
  {
   "cell_type": "code",
   "execution_count": 5,
   "id": "6ab124fa",
   "metadata": {},
   "outputs": [],
   "source": [
    "table_creation_query2 = \"\"\"\n",
    "CREATE TABLE IF NOT EXISTS customers(\n",
    "    customer_id INTEGER PRIMARY KEY AUTOINCREMENT,\n",
    "    first_name TEXT NOT NULL,\n",
    "    last_name TEXT NOT NULL,\n",
    "    email TEXT UNIQUE NOT NULL,\n",
    "    phone TEXT\n",
    ");\n",
    "\"\"\""
   ]
  },
  {
   "cell_type": "code",
   "execution_count": 6,
   "id": "134d263a",
   "metadata": {},
   "outputs": [],
   "source": [
    "table_creation_query3 = \"\"\"\n",
    "CREATE TABLE IF NOT EXISTS orders(\n",
    "    order_id INTEGER PRIMARY KEY AUTOINCREMENT,\n",
    "    customer_id INTEGER NOT NULL,\n",
    "    order_date TEXT NOT NULL,\n",
    "    amount REAL NOT NULL,\n",
    "    FOREIGN KEY (customer_id) REFERENCES customers (customer_id)\n",
    ");\n",
    "\"\"\""
   ]
  },
  {
   "cell_type": "code",
   "execution_count": 7,
   "id": "8e84fc6e",
   "metadata": {},
   "outputs": [],
   "source": [
    "cursor = connection.cursor()"
   ]
  },
  {
   "cell_type": "code",
   "execution_count": 8,
   "id": "e53003bf",
   "metadata": {},
   "outputs": [
    {
     "data": {
      "text/plain": [
       "<sqlite3.Cursor at 0x72fe3d7f0ac0>"
      ]
     },
     "execution_count": 8,
     "metadata": {},
     "output_type": "execute_result"
    }
   ],
   "source": [
    "cursor.execute(table_creation_query)\n",
    "cursor.execute(table_creation_query2)\n",
    "cursor.execute(table_creation_query3)"
   ]
  },
  {
   "cell_type": "code",
   "execution_count": 9,
   "id": "705ef604",
   "metadata": {},
   "outputs": [],
   "source": [
    "insert_query_employees = \"\"\"\n",
    "INSERT INTO employees (emp_id, first_name, last_name, email, hire_date, salary)\n",
    "VALUES (?, ?, ?, ?, ?, ?)\n",
    "\"\"\"\n",
    "\n",
    "insert_query_customers = \"\"\"\n",
    "INSERT INTO customers (customer_id, first_name, last_name, email, phone)\n",
    "VALUES (?, ?, ?, ?, ?)\n",
    "\"\"\"\n",
    "\n",
    "\n",
    "insert_query_orders = \"\"\"\n",
    "INSERT INTO orders (order_id, customer_id, order_date, amount)\n",
    "VALUES (?, ?, ?, ?)\n",
    "\"\"\""
   ]
  },
  {
   "cell_type": "code",
   "execution_count": 10,
   "id": "dc03d8b4",
   "metadata": {},
   "outputs": [],
   "source": [
    "employee_data = [\n",
    "    (1, \"employee1\", \"last1\", \"employee1@gmail.com\", \"2021-01-01\", 10000.00),\n",
    "    (2, \"employee2\", \"last2\", \"employee2@gmail.com\", \"2022-02-01\", 20000.00),\n",
    "    (3, \"employee3\", \"last3\", \"employee3@gmail.com\", \"2023-03-01\", 30000.00),\n",
    "    (4, \"employee4\", \"last4\", \"employee4@gmail.com\", \"2024-04-01\", 40000.00),\n",
    "]\n",
    "\n",
    "\n",
    "customers_data = [\n",
    "    (1, \"king1\", \"last1\", \"king1@gmail.com\", \"112345678\"),\n",
    "    (2, \"king2\", \"last2\", \"king2@gmail.com\", \"122345678\"),\n",
    "    (3, \"king3\", \"last3\", \"king3@gmail.com\", \"123345678\"),\n",
    "    (4, \"king4\", \"last4\", \"king4@gmail.com\", \"123445678\"),\n",
    "    \n",
    "]\n",
    "\n",
    "\n",
    "orders_data = [\n",
    "    (1, 1, \"2023-12-01\", 250.00),\n",
    "    (2, 2, \"2023-23-01\", 150.00),\n",
    "    (3, 3, \"2023-11-01\", 300.00),\n",
    "    (4, 4, \"2023-04-03\", 450.00),\n",
    "]"
   ]
  },
  {
   "cell_type": "code",
   "execution_count": 11,
   "id": "a17125e1",
   "metadata": {},
   "outputs": [
    {
     "ename": "IntegrityError",
     "evalue": "UNIQUE constraint failed: employees.emp_id",
     "output_type": "error",
     "traceback": [
      "\u001b[31m---------------------------------------------------------------------------\u001b[39m",
      "\u001b[31mIntegrityError\u001b[39m                            Traceback (most recent call last)",
      "\u001b[36mCell\u001b[39m\u001b[36m \u001b[39m\u001b[32mIn[11]\u001b[39m\u001b[32m, line 1\u001b[39m\n\u001b[32m----> \u001b[39m\u001b[32m1\u001b[39m \u001b[43mcursor\u001b[49m\u001b[43m.\u001b[49m\u001b[43mexecutemany\u001b[49m\u001b[43m(\u001b[49m\u001b[43minsert_query_employees\u001b[49m\u001b[43m,\u001b[49m\u001b[43m \u001b[49m\u001b[43memployee_data\u001b[49m\u001b[43m)\u001b[49m\n\u001b[32m      2\u001b[39m cursor.executemany(insert_query_customers, customers_data)\n\u001b[32m      3\u001b[39m cursor.executemany(insert_query_orders, orders_data)\n",
      "\u001b[31mIntegrityError\u001b[39m: UNIQUE constraint failed: employees.emp_id"
     ]
    }
   ],
   "source": [
    "cursor.executemany(insert_query_employees, employee_data)\n",
    "cursor.executemany(insert_query_customers, customers_data)\n",
    "cursor.executemany(insert_query_orders, orders_data)"
   ]
  },
  {
   "cell_type": "code",
   "execution_count": null,
   "id": "6ff020f6",
   "metadata": {},
   "outputs": [],
   "source": [
    "connection.commit()"
   ]
  },
  {
   "cell_type": "code",
   "execution_count": null,
   "id": "ac8fee27",
   "metadata": {},
   "outputs": [
    {
     "data": {
      "text/plain": [
       "<sqlite3.Cursor at 0x7705c8393540>"
      ]
     },
     "execution_count": 19,
     "metadata": {},
     "output_type": "execute_result"
    }
   ],
   "source": [
    "cursor.execute(\"select * from orders\")"
   ]
  },
  {
   "cell_type": "code",
   "execution_count": null,
   "id": "44afef20",
   "metadata": {},
   "outputs": [
    {
     "name": "stdout",
     "output_type": "stream",
     "text": [
      "(1, 1, '2023-12-01', 250.0)\n",
      "(2, 2, '2023-23-01', 150.0)\n",
      "(3, 3, '2023-11-01', 300.0)\n",
      "(4, 4, '2023-04-03', 450.0)\n"
     ]
    }
   ],
   "source": [
    "for row in cursor.fetchall():\n",
    "    print(row)"
   ]
  },
  {
   "cell_type": "code",
   "execution_count": 13,
   "id": "7b0902eb",
   "metadata": {},
   "outputs": [],
   "source": [
    "from langchain_community.utilities import SQLDatabase"
   ]
  },
  {
   "cell_type": "code",
   "execution_count": 16,
   "id": "726c1d40",
   "metadata": {},
   "outputs": [],
   "source": [
    "db = SQLDatabase.from_uri('sqlite:///mydb.db')"
   ]
  },
  {
   "cell_type": "code",
   "execution_count": 17,
   "id": "007e3b56",
   "metadata": {},
   "outputs": [
    {
     "data": {
      "text/plain": [
       "<langchain_community.utilities.sql_database.SQLDatabase at 0x72fe1e60b010>"
      ]
     },
     "execution_count": 17,
     "metadata": {},
     "output_type": "execute_result"
    }
   ],
   "source": [
    "db"
   ]
  },
  {
   "cell_type": "code",
   "execution_count": 18,
   "id": "aabfa3c0",
   "metadata": {},
   "outputs": [
    {
     "data": {
      "text/plain": [
       "'sqlite'"
      ]
     },
     "execution_count": 18,
     "metadata": {},
     "output_type": "execute_result"
    }
   ],
   "source": [
    "db.dialect"
   ]
  },
  {
   "cell_type": "code",
   "execution_count": 19,
   "id": "bcae4882",
   "metadata": {},
   "outputs": [
    {
     "data": {
      "text/plain": [
       "['customers', 'employees', 'orders']"
      ]
     },
     "execution_count": 19,
     "metadata": {},
     "output_type": "execute_result"
    }
   ],
   "source": [
    "db.get_usable_table_names()"
   ]
  },
  {
   "cell_type": "code",
   "execution_count": 20,
   "id": "666f3c41",
   "metadata": {},
   "outputs": [],
   "source": [
    "from langchain_groq import ChatGroq\n",
    "\n",
    "llm = ChatGroq(model=\"llama3-70b-8192\")"
   ]
  },
  {
   "cell_type": "code",
   "execution_count": 22,
   "id": "75421b45",
   "metadata": {},
   "outputs": [
    {
     "data": {
      "text/plain": [
       "\"I'm just a language model, so I don't have feelings or emotions like humans do. However, I'm functioning properly and ready to assist you with any questions or tasks you may have! How can I help you today?\""
      ]
     },
     "execution_count": 22,
     "metadata": {},
     "output_type": "execute_result"
    }
   ],
   "source": [
    "llm.invoke(\"how are you?\").content"
   ]
  },
  {
   "cell_type": "code",
   "execution_count": 23,
   "id": "b7d10638",
   "metadata": {},
   "outputs": [],
   "source": [
    "from langchain_community.agent_toolkits import SQLDatabaseToolkit"
   ]
  },
  {
   "cell_type": "code",
   "execution_count": 24,
   "id": "a5d16469",
   "metadata": {},
   "outputs": [],
   "source": [
    "toolkit = SQLDatabaseToolkit(db=db, llm=llm)"
   ]
  },
  {
   "cell_type": "code",
   "execution_count": 26,
   "id": "174d52cf",
   "metadata": {},
   "outputs": [],
   "source": [
    "tools = toolkit.get_tools()"
   ]
  },
  {
   "cell_type": "code",
   "execution_count": 27,
   "id": "ae606a3b",
   "metadata": {},
   "outputs": [
    {
     "name": "stdout",
     "output_type": "stream",
     "text": [
      "sql_db_query\n",
      "sql_db_schema\n",
      "sql_db_list_tables\n",
      "sql_db_query_checker\n"
     ]
    }
   ],
   "source": [
    "for tool in tools:\n",
    "    print(tool.name)"
   ]
  },
  {
   "cell_type": "code",
   "execution_count": 28,
   "id": "e4a0f90b",
   "metadata": {},
   "outputs": [],
   "source": [
    "list_tables_tool = next((tool for tool in tools if tool.name==\"sql_db_list_tables\"), None)"
   ]
  },
  {
   "cell_type": "code",
   "execution_count": 29,
   "id": "14ccae97",
   "metadata": {},
   "outputs": [
    {
     "data": {
      "text/plain": [
       "ListSQLDatabaseTool(db=<langchain_community.utilities.sql_database.SQLDatabase object at 0x72fe1e60b010>)"
      ]
     },
     "execution_count": 29,
     "metadata": {},
     "output_type": "execute_result"
    }
   ],
   "source": [
    "list_tables_tool"
   ]
  },
  {
   "cell_type": "code",
   "execution_count": 30,
   "id": "4f29f1fe",
   "metadata": {},
   "outputs": [],
   "source": [
    "get_schema_tool = next((tool for tool in tools if tool.name==\"sql_db_schema\"), None)"
   ]
  },
  {
   "cell_type": "code",
   "execution_count": 31,
   "id": "62722f95",
   "metadata": {},
   "outputs": [
    {
     "data": {
      "text/plain": [
       "InfoSQLDatabaseTool(description='Input to this tool is a comma-separated list of tables, output is the schema and sample rows for those tables. Be sure that the tables actually exist by calling sql_db_list_tables first! Example Input: table1, table2, table3', db=<langchain_community.utilities.sql_database.SQLDatabase object at 0x72fe1e60b010>)"
      ]
     },
     "execution_count": 31,
     "metadata": {},
     "output_type": "execute_result"
    }
   ],
   "source": [
    "get_schema_tool"
   ]
  },
  {
   "cell_type": "code",
   "execution_count": 32,
   "id": "f6a75e55",
   "metadata": {},
   "outputs": [
    {
     "data": {
      "text/plain": [
       "'customers, employees, orders'"
      ]
     },
     "execution_count": 32,
     "metadata": {},
     "output_type": "execute_result"
    }
   ],
   "source": [
    "list_tables_tool.invoke(\"\")"
   ]
  },
  {
   "cell_type": "code",
   "execution_count": 35,
   "id": "a169f4b8",
   "metadata": {},
   "outputs": [
    {
     "name": "stdout",
     "output_type": "stream",
     "text": [
      "\n",
      "CREATE TABLE customers (\n",
      "\tcustomer_id INTEGER, \n",
      "\tfirst_name TEXT NOT NULL, \n",
      "\tlast_name TEXT NOT NULL, \n",
      "\temail TEXT NOT NULL, \n",
      "\tphone TEXT, \n",
      "\tPRIMARY KEY (customer_id), \n",
      "\tUNIQUE (email)\n",
      ")\n",
      "\n",
      "/*\n",
      "3 rows from customers table:\n",
      "customer_id\tfirst_name\tlast_name\temail\tphone\n",
      "1\tking1\tlast1\tking1@gmail.com\t112345678\n",
      "2\tking2\tlast2\tking2@gmail.com\t122345678\n",
      "3\tking3\tlast3\tking3@gmail.com\t123345678\n",
      "*/\n"
     ]
    }
   ],
   "source": [
    "print(get_schema_tool.invoke(\"customers\"))"
   ]
  },
  {
   "cell_type": "code",
   "execution_count": null,
   "id": "10cc23f0",
   "metadata": {},
   "outputs": [],
   "source": []
  }
 ],
 "metadata": {
  "kernelspec": {
   "display_name": "Python 3",
   "language": "python",
   "name": "python3"
  },
  "language_info": {
   "codemirror_mode": {
    "name": "ipython",
    "version": 3
   },
   "file_extension": ".py",
   "mimetype": "text/x-python",
   "name": "python",
   "nbconvert_exporter": "python",
   "pygments_lexer": "ipython3",
   "version": "3.11.3"
  }
 },
 "nbformat": 4,
 "nbformat_minor": 5
}
