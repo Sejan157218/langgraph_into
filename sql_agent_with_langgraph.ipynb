{
 "cells": [
  {
   "cell_type": "code",
   "execution_count": 1,
   "id": "0bd8c44d",
   "metadata": {},
   "outputs": [],
   "source": [
    "import sqlite3"
   ]
  },
  {
   "cell_type": "code",
   "execution_count": 3,
   "id": "381cad66",
   "metadata": {},
   "outputs": [],
   "source": [
    "connection = sqlite3.connect('mydb.db')"
   ]
  },
  {
   "cell_type": "code",
   "execution_count": 4,
   "id": "ad8a80b5",
   "metadata": {},
   "outputs": [
    {
     "data": {
      "text/plain": [
       "<sqlite3.Connection at 0x7705d803fb50>"
      ]
     },
     "execution_count": 4,
     "metadata": {},
     "output_type": "execute_result"
    }
   ],
   "source": [
    "connection"
   ]
  },
  {
   "cell_type": "code",
   "execution_count": 10,
   "id": "f56af2a1",
   "metadata": {},
   "outputs": [],
   "source": [
    "table_creation_query = \"\"\"\n",
    "CREATE TABLE IF NOT EXISTS employees(\n",
    "    emp_id INTEGER PRIMARY KEY,\n",
    "    first_name TEXT NOT NULL,\n",
    "    last_name TEXT NOT NULL,\n",
    "    email TEXT UNIQUE NOT NULL,\n",
    "    hire_date TEXT NOT NULL,\n",
    "    salary REAL NOT NULL\n",
    ");\n",
    "\"\"\""
   ]
  },
  {
   "cell_type": "code",
   "execution_count": 11,
   "id": "6ab124fa",
   "metadata": {},
   "outputs": [],
   "source": [
    "table_creation_query2 = \"\"\"\n",
    "CREATE TABLE IF NOT EXISTS customers(\n",
    "    customer_id INTEGER PRIMARY KEY AUTOINCREMENT,\n",
    "    first_name TEXT NOT NULL,\n",
    "    last_name TEXT NOT NULL,\n",
    "    email TEXT UNIQUE NOT NULL,\n",
    "    phone TEXT\n",
    ");\n",
    "\"\"\""
   ]
  },
  {
   "cell_type": "code",
   "execution_count": 12,
   "id": "134d263a",
   "metadata": {},
   "outputs": [],
   "source": [
    "table_creation_query3 = \"\"\"\n",
    "CREATE TABLE IF NOT EXISTS orders(\n",
    "    order_id INTEGER PRIMARY KEY AUTOINCREMENT,\n",
    "    customer_id INTEGER NOT NULL,\n",
    "    order_date TEXT NOT NULL,\n",
    "    amount REAL NOT NULL,\n",
    "    FOREIGN KEY (customer_id) REFERENCES customers (customer_id)\n",
    ");\n",
    "\"\"\""
   ]
  },
  {
   "cell_type": "code",
   "execution_count": 13,
   "id": "8e84fc6e",
   "metadata": {},
   "outputs": [],
   "source": [
    "cursor = connection.cursor()"
   ]
  },
  {
   "cell_type": "code",
   "execution_count": 14,
   "id": "e53003bf",
   "metadata": {},
   "outputs": [
    {
     "data": {
      "text/plain": [
       "<sqlite3.Cursor at 0x7705c8393540>"
      ]
     },
     "execution_count": 14,
     "metadata": {},
     "output_type": "execute_result"
    }
   ],
   "source": [
    "cursor.execute(table_creation_query)\n",
    "cursor.execute(table_creation_query2)\n",
    "cursor.execute(table_creation_query3)"
   ]
  },
  {
   "cell_type": "code",
   "execution_count": 15,
   "id": "705ef604",
   "metadata": {},
   "outputs": [],
   "source": [
    "insert_query_employees = \"\"\"\n",
    "INSERT INTO employees (emp_id, first_name, last_name, email, hire_date, salary)\n",
    "VALUES (?, ?, ?, ?, ?, ?)\n",
    "\"\"\"\n",
    "\n",
    "insert_query_customers = \"\"\"\n",
    "INSERT INTO customers (customer_id, first_name, last_name, email, phone)\n",
    "VALUES (?, ?, ?, ?, ?)\n",
    "\"\"\"\n",
    "\n",
    "\n",
    "insert_query_orders = \"\"\"\n",
    "INSERT INTO orders (order_id, customer_id, order_date, amount)\n",
    "VALUES (?, ?, ?, ?)\n",
    "\"\"\""
   ]
  },
  {
   "cell_type": "code",
   "execution_count": 16,
   "id": "dc03d8b4",
   "metadata": {},
   "outputs": [],
   "source": [
    "employee_data = [\n",
    "    (1, \"employee1\", \"last1\", \"employee1@gmail.com\", \"2021-01-01\", 10000.00),\n",
    "    (2, \"employee2\", \"last2\", \"employee2@gmail.com\", \"2022-02-01\", 20000.00),\n",
    "    (3, \"employee3\", \"last3\", \"employee3@gmail.com\", \"2023-03-01\", 30000.00),\n",
    "    (4, \"employee4\", \"last4\", \"employee4@gmail.com\", \"2024-04-01\", 40000.00),\n",
    "]\n",
    "\n",
    "\n",
    "customers_data = [\n",
    "    (1, \"king1\", \"last1\", \"king1@gmail.com\", \"112345678\"),\n",
    "    (2, \"king2\", \"last2\", \"king2@gmail.com\", \"122345678\"),\n",
    "    (3, \"king3\", \"last3\", \"king3@gmail.com\", \"123345678\"),\n",
    "    (4, \"king4\", \"last4\", \"king4@gmail.com\", \"123445678\"),\n",
    "    \n",
    "]\n",
    "\n",
    "\n",
    "orders_data = [\n",
    "    (1, 1, \"2023-12-01\", 250.00),\n",
    "    (2, 2, \"2023-23-01\", 150.00),\n",
    "    (3, 3, \"2023-11-01\", 300.00),\n",
    "    (4, 4, \"2023-04-03\", 450.00),\n",
    "]"
   ]
  },
  {
   "cell_type": "code",
   "execution_count": 17,
   "id": "a17125e1",
   "metadata": {},
   "outputs": [
    {
     "data": {
      "text/plain": [
       "<sqlite3.Cursor at 0x7705c8393540>"
      ]
     },
     "execution_count": 17,
     "metadata": {},
     "output_type": "execute_result"
    }
   ],
   "source": [
    "cursor.executemany(insert_query_employees, employee_data)\n",
    "cursor.executemany(insert_query_customers, customers_data)\n",
    "cursor.executemany(insert_query_orders, orders_data)"
   ]
  },
  {
   "cell_type": "code",
   "execution_count": 18,
   "id": "6ff020f6",
   "metadata": {},
   "outputs": [],
   "source": [
    "connection.commit()"
   ]
  },
  {
   "cell_type": "code",
   "execution_count": 19,
   "id": "ac8fee27",
   "metadata": {},
   "outputs": [
    {
     "data": {
      "text/plain": [
       "<sqlite3.Cursor at 0x7705c8393540>"
      ]
     },
     "execution_count": 19,
     "metadata": {},
     "output_type": "execute_result"
    }
   ],
   "source": [
    "cursor.execute(\"select * from orders\")"
   ]
  },
  {
   "cell_type": "code",
   "execution_count": 20,
   "id": "44afef20",
   "metadata": {},
   "outputs": [
    {
     "name": "stdout",
     "output_type": "stream",
     "text": [
      "(1, 1, '2023-12-01', 250.0)\n",
      "(2, 2, '2023-23-01', 150.0)\n",
      "(3, 3, '2023-11-01', 300.0)\n",
      "(4, 4, '2023-04-03', 450.0)\n"
     ]
    }
   ],
   "source": [
    "for row in cursor.fetchall():\n",
    "    print(row)"
   ]
  },
  {
   "cell_type": "code",
   "execution_count": null,
   "id": "7b0902eb",
   "metadata": {},
   "outputs": [],
   "source": []
  }
 ],
 "metadata": {
  "kernelspec": {
   "display_name": "Python 3",
   "language": "python",
   "name": "python3"
  },
  "language_info": {
   "codemirror_mode": {
    "name": "ipython",
    "version": 3
   },
   "file_extension": ".py",
   "mimetype": "text/x-python",
   "name": "python",
   "nbconvert_exporter": "python",
   "pygments_lexer": "ipython3",
   "version": "3.11.3"
  }
 },
 "nbformat": 4,
 "nbformat_minor": 5
}
