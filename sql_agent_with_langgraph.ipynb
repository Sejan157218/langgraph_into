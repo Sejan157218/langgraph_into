{
 "cells": [
  {
   "cell_type": "code",
   "execution_count": 71,
   "id": "0bd8c44d",
   "metadata": {},
   "outputs": [],
   "source": [
    "import sqlite3"
   ]
  },
  {
   "cell_type": "code",
   "execution_count": 72,
   "id": "381cad66",
   "metadata": {},
   "outputs": [],
   "source": [
    "connection = sqlite3.connect('mydb.db')"
   ]
  },
  {
   "cell_type": "code",
   "execution_count": 73,
   "id": "ad8a80b5",
   "metadata": {},
   "outputs": [
    {
     "data": {
      "text/plain": [
       "<sqlite3.Connection at 0x75ee6bdbc9a0>"
      ]
     },
     "execution_count": 73,
     "metadata": {},
     "output_type": "execute_result"
    }
   ],
   "source": [
    "connection"
   ]
  },
  {
   "cell_type": "code",
   "execution_count": 74,
   "id": "f56af2a1",
   "metadata": {},
   "outputs": [],
   "source": [
    "table_creation_query = \"\"\"\n",
    "CREATE TABLE IF NOT EXISTS employees(\n",
    "    emp_id INTEGER PRIMARY KEY,\n",
    "    first_name TEXT NOT NULL,\n",
    "    last_name TEXT NOT NULL,\n",
    "    email TEXT UNIQUE NOT NULL,\n",
    "    hire_date TEXT NOT NULL,\n",
    "    salary REAL NOT NULL\n",
    ");\n",
    "\"\"\""
   ]
  },
  {
   "cell_type": "code",
   "execution_count": 75,
   "id": "6ab124fa",
   "metadata": {},
   "outputs": [],
   "source": [
    "table_creation_query2 = \"\"\"\n",
    "CREATE TABLE IF NOT EXISTS customers(\n",
    "    customer_id INTEGER PRIMARY KEY AUTOINCREMENT,\n",
    "    first_name TEXT NOT NULL,\n",
    "    last_name TEXT NOT NULL,\n",
    "    email TEXT UNIQUE NOT NULL,\n",
    "    phone TEXT\n",
    ");\n",
    "\"\"\""
   ]
  },
  {
   "cell_type": "code",
   "execution_count": 76,
   "id": "134d263a",
   "metadata": {},
   "outputs": [],
   "source": [
    "table_creation_query3 = \"\"\"\n",
    "CREATE TABLE IF NOT EXISTS orders(\n",
    "    order_id INTEGER PRIMARY KEY AUTOINCREMENT,\n",
    "    customer_id INTEGER NOT NULL,\n",
    "    order_date TEXT NOT NULL,\n",
    "    amount REAL NOT NULL,\n",
    "    FOREIGN KEY (customer_id) REFERENCES customers (customer_id)\n",
    ");\n",
    "\"\"\""
   ]
  },
  {
   "cell_type": "code",
   "execution_count": 77,
   "id": "8e84fc6e",
   "metadata": {},
   "outputs": [],
   "source": [
    "cursor = connection.cursor()"
   ]
  },
  {
   "cell_type": "code",
   "execution_count": 78,
   "id": "e53003bf",
   "metadata": {},
   "outputs": [
    {
     "data": {
      "text/plain": [
       "<sqlite3.Cursor at 0x75ee6bdaef40>"
      ]
     },
     "execution_count": 78,
     "metadata": {},
     "output_type": "execute_result"
    }
   ],
   "source": [
    "cursor.execute(table_creation_query)\n",
    "cursor.execute(table_creation_query2)\n",
    "cursor.execute(table_creation_query3)"
   ]
  },
  {
   "cell_type": "code",
   "execution_count": 79,
   "id": "705ef604",
   "metadata": {},
   "outputs": [],
   "source": [
    "insert_query_employees = \"\"\"\n",
    "INSERT INTO employees (emp_id, first_name, last_name, email, hire_date, salary)\n",
    "VALUES (?, ?, ?, ?, ?, ?)\n",
    "\"\"\"\n",
    "\n",
    "insert_query_customers = \"\"\"\n",
    "INSERT INTO customers (customer_id, first_name, last_name, email, phone)\n",
    "VALUES (?, ?, ?, ?, ?)\n",
    "\"\"\"\n",
    "\n",
    "\n",
    "insert_query_orders = \"\"\"\n",
    "INSERT INTO orders (order_id, customer_id, order_date, amount)\n",
    "VALUES (?, ?, ?, ?)\n",
    "\"\"\""
   ]
  },
  {
   "cell_type": "code",
   "execution_count": 80,
   "id": "dc03d8b4",
   "metadata": {},
   "outputs": [],
   "source": [
    "employee_data = [\n",
    "    (1, \"employee1\", \"last1\", \"employee1@gmail.com\", \"2021-01-01\", 10000.00),\n",
    "    (2, \"employee2\", \"last2\", \"employee2@gmail.com\", \"2022-02-01\", 20000.00),\n",
    "    (3, \"employee3\", \"last3\", \"employee3@gmail.com\", \"2023-03-01\", 30000.00),\n",
    "    (4, \"employee4\", \"last4\", \"employee4@gmail.com\", \"2024-04-01\", 40000.00),\n",
    "]\n",
    "\n",
    "\n",
    "customers_data = [\n",
    "    (1, \"king1\", \"last1\", \"king1@gmail.com\", \"112345678\"),\n",
    "    (2, \"king2\", \"last2\", \"king2@gmail.com\", \"122345678\"),\n",
    "    (3, \"king3\", \"last3\", \"king3@gmail.com\", \"123345678\"),\n",
    "    (4, \"king4\", \"last4\", \"king4@gmail.com\", \"123445678\"),\n",
    "    \n",
    "]\n",
    "\n",
    "\n",
    "orders_data = [\n",
    "    (1, 1, \"2023-12-01\", 250.00),\n",
    "    (2, 2, \"2023-23-01\", 150.00),\n",
    "    (3, 3, \"2023-11-01\", 300.00),\n",
    "    (4, 4, \"2023-04-03\", 450.00),\n",
    "]"
   ]
  },
  {
   "cell_type": "code",
   "execution_count": 81,
   "id": "a17125e1",
   "metadata": {},
   "outputs": [],
   "source": [
    "# cursor.executemany(insert_query_employees, employee_data)\n",
    "# cursor.executemany(insert_query_customers, customers_data)\n",
    "# cursor.executemany(insert_query_orders, orders_data)"
   ]
  },
  {
   "cell_type": "code",
   "execution_count": 82,
   "id": "6ff020f6",
   "metadata": {},
   "outputs": [],
   "source": [
    "connection.commit()"
   ]
  },
  {
   "cell_type": "code",
   "execution_count": 83,
   "id": "ac8fee27",
   "metadata": {},
   "outputs": [
    {
     "data": {
      "text/plain": [
       "<sqlite3.Cursor at 0x75ee6bdaef40>"
      ]
     },
     "execution_count": 83,
     "metadata": {},
     "output_type": "execute_result"
    }
   ],
   "source": [
    "cursor.execute(\"select * from orders\")"
   ]
  },
  {
   "cell_type": "code",
   "execution_count": 84,
   "id": "44afef20",
   "metadata": {},
   "outputs": [
    {
     "name": "stdout",
     "output_type": "stream",
     "text": [
      "(1, 1, '2023-12-01', 250.0)\n",
      "(2, 2, '2023-23-01', 150.0)\n",
      "(3, 3, '2023-11-01', 300.0)\n",
      "(4, 4, '2023-04-03', 450.0)\n"
     ]
    }
   ],
   "source": [
    "for row in cursor.fetchall():\n",
    "    print(row)"
   ]
  },
  {
   "cell_type": "code",
   "execution_count": 85,
   "id": "7b0902eb",
   "metadata": {},
   "outputs": [],
   "source": [
    "from langchain_community.utilities import SQLDatabase"
   ]
  },
  {
   "cell_type": "code",
   "execution_count": 86,
   "id": "726c1d40",
   "metadata": {},
   "outputs": [],
   "source": [
    "db = SQLDatabase.from_uri('sqlite:///mydb.db')"
   ]
  },
  {
   "cell_type": "code",
   "execution_count": 87,
   "id": "007e3b56",
   "metadata": {},
   "outputs": [
    {
     "data": {
      "text/plain": [
       "<langchain_community.utilities.sql_database.SQLDatabase at 0x75ee753d76d0>"
      ]
     },
     "execution_count": 87,
     "metadata": {},
     "output_type": "execute_result"
    }
   ],
   "source": [
    "db"
   ]
  },
  {
   "cell_type": "code",
   "execution_count": 88,
   "id": "aabfa3c0",
   "metadata": {},
   "outputs": [
    {
     "data": {
      "text/plain": [
       "'sqlite'"
      ]
     },
     "execution_count": 88,
     "metadata": {},
     "output_type": "execute_result"
    }
   ],
   "source": [
    "db.dialect"
   ]
  },
  {
   "cell_type": "code",
   "execution_count": 89,
   "id": "bcae4882",
   "metadata": {},
   "outputs": [
    {
     "data": {
      "text/plain": [
       "['customers', 'employees', 'orders']"
      ]
     },
     "execution_count": 89,
     "metadata": {},
     "output_type": "execute_result"
    }
   ],
   "source": [
    "db.get_usable_table_names()"
   ]
  },
  {
   "cell_type": "code",
   "execution_count": 90,
   "id": "666f3c41",
   "metadata": {},
   "outputs": [],
   "source": [
    "from langchain_groq import ChatGroq\n",
    "\n",
    "llm = ChatGroq(model=\"llama3-70b-8192\")"
   ]
  },
  {
   "cell_type": "code",
   "execution_count": 91,
   "id": "75421b45",
   "metadata": {},
   "outputs": [
    {
     "data": {
      "text/plain": [
       "\"I'm just a language model, so I don't have feelings or emotions like humans do. However, I'm functioning properly and ready to assist you with any questions or tasks you may have! How can I help you today?\""
      ]
     },
     "execution_count": 91,
     "metadata": {},
     "output_type": "execute_result"
    }
   ],
   "source": [
    "llm.invoke(\"how are you?\").content"
   ]
  },
  {
   "cell_type": "code",
   "execution_count": 92,
   "id": "b7d10638",
   "metadata": {},
   "outputs": [],
   "source": [
    "from langchain_community.agent_toolkits import SQLDatabaseToolkit"
   ]
  },
  {
   "cell_type": "code",
   "execution_count": 93,
   "id": "a5d16469",
   "metadata": {},
   "outputs": [],
   "source": [
    "toolkit = SQLDatabaseToolkit(db=db, llm=llm)"
   ]
  },
  {
   "cell_type": "code",
   "execution_count": 94,
   "id": "174d52cf",
   "metadata": {},
   "outputs": [],
   "source": [
    "tools = toolkit.get_tools()"
   ]
  },
  {
   "cell_type": "code",
   "execution_count": 95,
   "id": "ae606a3b",
   "metadata": {},
   "outputs": [
    {
     "name": "stdout",
     "output_type": "stream",
     "text": [
      "sql_db_query\n",
      "sql_db_schema\n",
      "sql_db_list_tables\n",
      "sql_db_query_checker\n"
     ]
    }
   ],
   "source": [
    "for tool in tools:\n",
    "    print(tool.name)"
   ]
  },
  {
   "cell_type": "code",
   "execution_count": 96,
   "id": "e4a0f90b",
   "metadata": {},
   "outputs": [],
   "source": [
    "list_tables_tool = next((tool for tool in tools if tool.name==\"sql_db_list_tables\"), None)"
   ]
  },
  {
   "cell_type": "code",
   "execution_count": 97,
   "id": "14ccae97",
   "metadata": {},
   "outputs": [
    {
     "data": {
      "text/plain": [
       "ListSQLDatabaseTool(db=<langchain_community.utilities.sql_database.SQLDatabase object at 0x75ee753d76d0>)"
      ]
     },
     "execution_count": 97,
     "metadata": {},
     "output_type": "execute_result"
    }
   ],
   "source": [
    "list_tables_tool"
   ]
  },
  {
   "cell_type": "code",
   "execution_count": 98,
   "id": "4f29f1fe",
   "metadata": {},
   "outputs": [],
   "source": [
    "get_schema_tool = next((tool for tool in tools if tool.name==\"sql_db_schema\"), None)"
   ]
  },
  {
   "cell_type": "code",
   "execution_count": 99,
   "id": "62722f95",
   "metadata": {},
   "outputs": [
    {
     "data": {
      "text/plain": [
       "InfoSQLDatabaseTool(description='Input to this tool is a comma-separated list of tables, output is the schema and sample rows for those tables. Be sure that the tables actually exist by calling sql_db_list_tables first! Example Input: table1, table2, table3', db=<langchain_community.utilities.sql_database.SQLDatabase object at 0x75ee753d76d0>)"
      ]
     },
     "execution_count": 99,
     "metadata": {},
     "output_type": "execute_result"
    }
   ],
   "source": [
    "get_schema_tool"
   ]
  },
  {
   "cell_type": "code",
   "execution_count": 100,
   "id": "f6a75e55",
   "metadata": {},
   "outputs": [
    {
     "data": {
      "text/plain": [
       "'customers, employees, orders'"
      ]
     },
     "execution_count": 100,
     "metadata": {},
     "output_type": "execute_result"
    }
   ],
   "source": [
    "list_tables_tool.invoke(\"\")"
   ]
  },
  {
   "cell_type": "code",
   "execution_count": 101,
   "id": "a169f4b8",
   "metadata": {},
   "outputs": [
    {
     "name": "stdout",
     "output_type": "stream",
     "text": [
      "\n",
      "CREATE TABLE customers (\n",
      "\tcustomer_id INTEGER, \n",
      "\tfirst_name TEXT NOT NULL, \n",
      "\tlast_name TEXT NOT NULL, \n",
      "\temail TEXT NOT NULL, \n",
      "\tphone TEXT, \n",
      "\tPRIMARY KEY (customer_id), \n",
      "\tUNIQUE (email)\n",
      ")\n",
      "\n",
      "/*\n",
      "3 rows from customers table:\n",
      "customer_id\tfirst_name\tlast_name\temail\tphone\n",
      "1\tking1\tlast1\tking1@gmail.com\t112345678\n",
      "2\tking2\tlast2\tking2@gmail.com\t122345678\n",
      "3\tking3\tlast3\tking3@gmail.com\t123345678\n",
      "*/\n"
     ]
    }
   ],
   "source": [
    "print(get_schema_tool.invoke(\"customers\"))"
   ]
  },
  {
   "cell_type": "code",
   "execution_count": 102,
   "id": "10cc23f0",
   "metadata": {},
   "outputs": [],
   "source": [
    "from langchain_core.tools import tool\n",
    "\n",
    "\n",
    "@tool\n",
    "def db_query_tool(query:str)->str:\n",
    "    \"\"\"custom db query\"\"\"\n",
    "    result = db.run_no_throw(query)\n",
    "    if not result:\n",
    "        return \"Error : Query failed. Please rewrite your query and try again.\"\n",
    "    return result"
   ]
  },
  {
   "cell_type": "code",
   "execution_count": 103,
   "id": "5f4141d7",
   "metadata": {},
   "outputs": [
    {
     "data": {
      "text/plain": [
       "\"[(1, 'employee1', 'last1', 'employee1@gmail.com', '2021-01-01', 10000.0), (2, 'employee2', 'last2', 'employee2@gmail.com', '2022-02-01', 20000.0), (3, 'employee3', 'last3', 'employee3@gmail.com', '2023-03-01', 30000.0), (4, 'employee4', 'last4', 'employee4@gmail.com', '2024-04-01', 40000.0)]\""
      ]
     },
     "execution_count": 103,
     "metadata": {},
     "output_type": "execute_result"
    }
   ],
   "source": [
    "db_query_tool.invoke(\"SELECT * from Employees\")"
   ]
  },
  {
   "cell_type": "code",
   "execution_count": 104,
   "id": "612e6ab5",
   "metadata": {},
   "outputs": [
    {
     "data": {
      "text/plain": [
       "\"[(1, 'employee1', 'last1', 'employee1@gmail.com', '2021-01-01', 10000.0), (2, 'employee2', 'last2', 'employee2@gmail.com', '2022-02-01', 20000.0), (3, 'employee3', 'last3', 'employee3@gmail.com', '2023-03-01', 30000.0), (4, 'employee4', 'last4', 'employee4@gmail.com', '2024-04-01', 40000.0)]\""
      ]
     },
     "execution_count": 104,
     "metadata": {},
     "output_type": "execute_result"
    }
   ],
   "source": [
    "# also do same work\n",
    "db.run(\"SELECT * from Employees\")"
   ]
  },
  {
   "cell_type": "markdown",
   "id": "8bf2b002",
   "metadata": {},
   "source": [
    "## Query Check\n",
    "## Query Gen"
   ]
  },
  {
   "cell_type": "code",
   "execution_count": 105,
   "id": "25b0a0ef",
   "metadata": {},
   "outputs": [],
   "source": [
    "from typing import Annotated, Literal\n",
    "from langchain_core.messages import AIMessage\n",
    "from langchain_core.pydantic_v1 import BaseModel, Field\n",
    "from typing_extensions import TypedDict\n",
    "from langgraph.graph import END, StateGraph, START\n",
    "from langgraph.graph.message import AnyMessage, add_messages\n",
    "from typing import Any\n",
    "from langchain_core.messages import ToolMessage\n",
    "from langchain_core.runnables import RunnableLambda, RunnableWithFallbacks\n",
    "from langgraph.prebuilt import ToolNode\n"
   ]
  },
  {
   "cell_type": "code",
   "execution_count": 106,
   "id": "cba2ff22",
   "metadata": {},
   "outputs": [],
   "source": [
    "##Query Check\n",
    "from langchain_core.prompts import ChatPromptTemplate\n",
    "\n",
    "query_check_system = \"\"\"You are a SQL expert with a strong attention to detail.\n",
    "Double check the SqlLite query for common mistakes, including:\n",
    "- Using NOT IN with NULL values\n",
    "- Using UNION when UNION ALL should have been used\n",
    "- Using BETWEEN for exclusive ranges\n",
    "- Data type mismatch in predicates\n",
    "- Properly quoting identifiers\n",
    "- Using the correct number of arguments for functions\n",
    "- Casting to the correct data type\n",
    "- Using the proper columns for joins\n",
    "\n",
    "If there are any of the above mistakes, rewrite the query.\n",
    "If there are no mistakes, just reproduce the original query with no further commentary.\n",
    "\n",
    "Output the final SQL query only.\"\"\"\n",
    "query_check_prompt = ChatPromptTemplate.from_messages(\n",
    "    [(\"system\", query_check_system), (\"placeholder\", \"{messages}\")])\n",
    "\n",
    "query_check = query_check_prompt | llm.bind_tools([db_query_tool])\n",
    "\n"
   ]
  },
  {
   "cell_type": "code",
   "execution_count": 107,
   "id": "01c8f88c",
   "metadata": {},
   "outputs": [
    {
     "data": {
      "text/plain": [
       "AIMessage(content='SELECT * FROM Employees LIMIT 5;', additional_kwargs={}, response_metadata={'token_usage': {'completion_tokens': 9, 'prompt_tokens': 1007, 'total_tokens': 1016, 'completion_time': 0.001267818, 'prompt_time': 0.081980408, 'queue_time': 0.269232962, 'total_time': 0.083248226}, 'model_name': 'llama3-70b-8192', 'system_fingerprint': 'fp_bf16903a67', 'service_tier': 'on_demand', 'finish_reason': 'stop', 'logprobs': None}, id='run--3cda533f-8db9-4f06-8fbb-76768d553be5-0', usage_metadata={'input_tokens': 1007, 'output_tokens': 9, 'total_tokens': 1016})"
      ]
     },
     "execution_count": 107,
     "metadata": {},
     "output_type": "execute_result"
    }
   ],
   "source": [
    "query_check.invoke({\"messages\" : [(\"user\", \"SELECT * FROM Employees LIMIT 5;\")]})"
   ]
  },
  {
   "cell_type": "code",
   "execution_count": 108,
   "id": "2288bb68",
   "metadata": {},
   "outputs": [],
   "source": [
    "class SubmitFinalAnswer(BaseModel):\n",
    "    \"\"\"Submit the final answer to the user based on the query results.\"\"\"\n",
    "    final_answer: str = Field(..., description=\"The final answer to the user\")\n",
    "\n",
    "# Add a node for a model to generate a query based on the question and schema\n",
    "query_gen_system_prompt = \"\"\"You are a SQL expert with a strong attention to detail.Given an input question, output a syntactically correct SQLite query to run, then look at the results of the query and return the answer.\n",
    "\n",
    "1. DO NOT call any tool besides SubmitFinalAnswer to submit the final answer.\n",
    "\n",
    "When generating the query:\n",
    "\n",
    "2. Output the SQL query that answers the input question without a tool call.\n",
    "\n",
    "3. Unless the user specifies a specific number of examples they wish to obtain, always limit your query to at most 5 results.\n",
    "\n",
    "4. You can order the results by a relevant column to return the most interesting examples in the database.\n",
    "\n",
    "5. Never query for all the columns from a specific table, only ask for the relevant columns given the question.\n",
    "\n",
    "6. If you get an error while executing a query, rewrite the query and try again.\n",
    "\n",
    "7. If you get an empty result set, you should try to rewrite the query to get a non-empty result set.\n",
    "\n",
    "8. NEVER make stuff up if you don't have enough information to answer the query... just say you don't have enough information.\n",
    "\n",
    "9. If you have enough information to answer the input question, simply invoke the appropriate tool to submit the final answer to the user.\n",
    "\n",
    "10. DO NOT make any DML statements (INSERT, UPDATE, DELETE, DROP etc.) to the database. Do not return any sql query except answer. \"\"\"\n",
    "\n",
    "query_gen_prompt = ChatPromptTemplate.from_messages([(\"system\", query_gen_system_prompt), (\"placeholder\", \"{messages}\")])\n",
    "\n",
    "query_gen = query_gen_prompt | llm.bind_tools([SubmitFinalAnswer])"
   ]
  },
  {
   "cell_type": "code",
   "execution_count": 109,
   "id": "f606c763",
   "metadata": {},
   "outputs": [],
   "source": [
    "class State(TypedDict):\n",
    "    messages : Annotated[list[AnyMessage], add_messages]"
   ]
  },
  {
   "cell_type": "code",
   "execution_count": 110,
   "id": "4ea699db",
   "metadata": {},
   "outputs": [],
   "source": [
    "def first_tool_call(state:State):\n",
    "    return {\"messages\" : [AIMessage(content=\"\", tool_calls=[{\"name\" : \"sql_db_list_tables\", \"args\":{}, \"id\" : \"tool_abcd123\"}])]}"
   ]
  },
  {
   "cell_type": "code",
   "execution_count": 111,
   "id": "c9c1d619",
   "metadata": {},
   "outputs": [],
   "source": [
    "def handle_toos_error(state:State):\n",
    "    error = state.get(\"error\")\n",
    "    tool_calls = state['messages'][-1].tool_calls\n",
    "    return {\n",
    "        \"messages\" : [\n",
    "            ToolMessage(content=f\"Error : {repr(error)}\\n Please fix your mistake.\", tool_call_id=tc[\"id\"],)\n",
    "            for tc in tool_calls\n",
    "        ]\n",
    "    }\n",
    "    "
   ]
  },
  {
   "cell_type": "code",
   "execution_count": 112,
   "id": "90b285ac",
   "metadata": {},
   "outputs": [],
   "source": [
    "def create_tool_note_with_fallback(tools:list)->RunnableWithFallbacks[Any, dict]:\n",
    "    return ToolNode(tools).with_fallbacks([RunnableLambda(handle_toos_error)], exception_key=\"error\")"
   ]
  },
  {
   "cell_type": "code",
   "execution_count": 113,
   "id": "18330752",
   "metadata": {},
   "outputs": [],
   "source": [
    "def model_check_query(state:State):\n",
    "    return {\"messages\" : [query_check.invoke({\"messages\" : [state['messages'][-1]]})]}"
   ]
  },
  {
   "cell_type": "code",
   "execution_count": 114,
   "id": "15a900a4",
   "metadata": {},
   "outputs": [],
   "source": [
    "def query_gen_node(state:State):\n",
    "    message = query_gen.invoke(state)\n",
    "    print(f\"state from generation_query: {state}\")\n",
    "\n",
    "    # Sometimes, the LLM will hallucinate and call the wrong tool. We need to catch this and return an error message.\n",
    "    tool_messages = []\n",
    "    if message.tool_calls:\n",
    "        for tc in message.tool_calls:\n",
    "            if tc[\"name\"] != \"SubmitFinalAnswer\":\n",
    "                tool_messages.append(\n",
    "                    ToolMessage(\n",
    "                        content=f\"Error: The wrong tool was called: {tc['name']}. Please fix your mistakes. Remember to only call SubmitFinalAnswer to submit the final answer. Generated queries should be outputted WITHOUT a tool call.\",\n",
    "                        tool_call_id=tc[\"id\"],\n",
    "                    )\n",
    "                )\n",
    "    else:\n",
    "        tool_messages = []\n",
    "    return {\"messages\": [message] + tool_messages}"
   ]
  },
  {
   "cell_type": "code",
   "execution_count": 115,
   "id": "9ec31f38",
   "metadata": {},
   "outputs": [],
   "source": [
    "def should_continue(state:State):\n",
    "    messages = state[\"messages\"]\n",
    "    last_message = messages[-1]\n",
    "    if getattr(last_message, \"tool_calls\", None):\n",
    "        return END\n",
    "    if last_message.content.startswith(\"Error:\"):\n",
    "        return \"query_gen\"\n",
    "    else:\n",
    "        return \"correct_query\""
   ]
  },
  {
   "cell_type": "code",
   "execution_count": 125,
   "id": "369650f4",
   "metadata": {},
   "outputs": [],
   "source": [
    "workflow = StateGraph(State)"
   ]
  },
  {
   "cell_type": "code",
   "execution_count": 126,
   "id": "34805baf",
   "metadata": {},
   "outputs": [
    {
     "data": {
      "text/plain": [
       "<langgraph.graph.state.StateGraph at 0x75ee74fb3790>"
      ]
     },
     "execution_count": 126,
     "metadata": {},
     "output_type": "execute_result"
    }
   ],
   "source": [
    "workflow.add_node(\"first_tool_call\",first_tool_call)\n",
    "workflow.add_node(\"list_tables_tool\", create_tool_note_with_fallback([list_tables_tool]))\n",
    "workflow.add_node(\"get_schema_tool\", create_tool_note_with_fallback([get_schema_tool]))\n",
    "model_get_schema = llm.bind_tools([get_schema_tool])\n",
    "workflow.add_node(\"model_get_schema\",lambda state: {\"messages\": [model_get_schema.invoke(state[\"messages\"])],},)\n",
    "workflow.add_node(\"query_gen\", query_gen_node)\n",
    "workflow.add_node(\"correct_query\", model_check_query)\n",
    "workflow.add_node(\"execute_query\", create_tool_note_with_fallback([db_query_tool]))"
   ]
  },
  {
   "cell_type": "code",
   "execution_count": 127,
   "id": "d88fb3a0",
   "metadata": {},
   "outputs": [
    {
     "data": {
      "text/plain": [
       "<langgraph.graph.state.StateGraph at 0x75ee74fb3790>"
      ]
     },
     "execution_count": 127,
     "metadata": {},
     "output_type": "execute_result"
    }
   ],
   "source": [
    "\n",
    "workflow.add_edge(START, \"first_tool_call\")\n",
    "workflow.add_edge(\"first_tool_call\", \"list_tables_tool\")\n",
    "workflow.add_edge(\"list_tables_tool\", \"model_get_schema\")\n",
    "workflow.add_edge(\"model_get_schema\", \"get_schema_tool\")\n",
    "workflow.add_edge(\"get_schema_tool\", \"query_gen\")\n",
    "workflow.add_conditional_edges(\"query_gen\",should_continue,\n",
    "                            {END:END,\n",
    "                            \"correct_query\":\"correct_query\"})\n",
    "workflow.add_edge(\"correct_query\", \"execute_query\")\n",
    "workflow.add_edge(\"execute_query\", \"query_gen\")"
   ]
  },
  {
   "cell_type": "code",
   "execution_count": 128,
   "id": "8a64934d",
   "metadata": {},
   "outputs": [],
   "source": [
    "app = workflow.compile()"
   ]
  },
  {
   "cell_type": "code",
   "execution_count": 129,
   "id": "d3900f2b",
   "metadata": {},
   "outputs": [
    {
     "data": {
      "image/png": "[encoded data removed]",
      "text/plain": [
       "<IPython.core.display.Image object>"
      ]
     },
     "metadata": {},
     "output_type": "display_data"
    }
   ],
   "source": [
    "from IPython.display import Image, display\n",
    "from langchain_core.runnables.graph import MermaidDrawMethod\n",
    "\n",
    "display(\n",
    "    Image(\n",
    "        app.get_graph().draw_mermaid_png(\n",
    "            draw_method=MermaidDrawMethod.API,\n",
    "        )\n",
    "    )\n",
    ")"
   ]
  },
  {
   "cell_type": "code",
   "execution_count": 130,
   "id": "b8ec06cd",
   "metadata": {},
   "outputs": [],
   "source": [
    "query={\"messages\": [(\"user\", \"how many order are there which is more than 300 rupees?\")]}"
   ]
  },
  {
   "cell_type": "code",
   "execution_count": 131,
   "id": "a7159b87",
   "metadata": {},
   "outputs": [
    {
     "name": "stdout",
     "output_type": "stream",
     "text": [
      "state from generation_query: {'messages': [HumanMessage(content='how many order are there which is more than 300 rupees?', additional_kwargs={}, response_metadata={}, id='820e6c19-a54b-4f55-b160-8ac291233453'), AIMessage(content='', additional_kwargs={}, response_metadata={}, id='fe1e59bd-6a98-44c6-a9fa-f2aa0c213df5', tool_calls=[{'name': 'sql_db_list_tables', 'args': {}, 'id': 'tool_abcd123', 'type': 'tool_call'}]), ToolMessage(content='customers, employees, orders', name='sql_db_list_tables', id='bad55af1-6612-48a6-90ef-63aff3b93e81', tool_call_id='tool_abcd123'), AIMessage(content='', additional_kwargs={'tool_calls': [{'id': 'w17h3zp6m', 'function': {'arguments': '{\"table_names\":\"orders\"}', 'name': 'sql_db_schema'}, 'type': 'function'}]}, response_metadata={'token_usage': {'completion_tokens': 35, 'prompt_tokens': 1036, 'total_tokens': 1071, 'completion_time': 0.078790406, 'prompt_time': 0.083367454, 'queue_time': 0.267463732, 'total_time': 0.16215786}, 'model_name': 'llama3-70b-8192', 'system_fingerprint': 'fp_bf16903a67', 'service_tier': 'on_demand', 'finish_reason': 'tool_calls', 'logprobs': None}, id='run--7a36d43f-a1eb-4e67-a839-312d06639909-0', tool_calls=[{'name': 'sql_db_schema', 'args': {'table_names': 'orders'}, 'id': 'w17h3zp6m', 'type': 'tool_call'}], usage_metadata={'input_tokens': 1036, 'output_tokens': 35, 'total_tokens': 1071}), ToolMessage(content='\\nCREATE TABLE orders (\\n\\torder_id INTEGER, \\n\\tcustomer_id INTEGER NOT NULL, \\n\\torder_date TEXT NOT NULL, \\n\\tamount REAL NOT NULL, \\n\\tPRIMARY KEY (order_id), \\n\\tFOREIGN KEY(customer_id) REFERENCES customers (customer_id)\\n)\\n\\n/*\\n3 rows from orders table:\\norder_id\\tcustomer_id\\torder_date\\tamount\\n1\\t1\\t2023-12-01\\t250.0\\n2\\t2\\t2023-23-01\\t150.0\\n3\\t3\\t2023-11-01\\t300.0\\n*/', name='sql_db_schema', id='9b09bd4a-f7c4-401a-b4ca-f14178ef72b4', tool_call_id='w17h3zp6m')]}\n"
     ]
    }
   ],
   "source": [
    "response=app.invoke(query)"
   ]
  },
  {
   "cell_type": "code",
   "execution_count": 132,
   "id": "16387c03",
   "metadata": {},
   "outputs": [
    {
     "data": {
      "text/plain": [
       "'1'"
      ]
     },
     "execution_count": 132,
     "metadata": {},
     "output_type": "execute_result"
    }
   ],
   "source": [
    "response[\"messages\"][-1].tool_calls[0][\"args\"][\"final_answer\"]"
   ]
  },
  {
   "cell_type": "code",
   "execution_count": 133,
   "id": "a88dac66",
   "metadata": {},
   "outputs": [
    {
     "name": "stdout",
     "output_type": "stream",
     "text": [
      "state from generation_query: {'messages': [HumanMessage(content=\"Tell me name of the employee who's salary is more than 30000?\", additional_kwargs={}, response_metadata={}, id='803c6f95-f314-46ba-9107-93f114bf6683'), AIMessage(content='', additional_kwargs={}, response_metadata={}, id='abb0339b-a8d0-4606-bb85-2e5d874f4015', tool_calls=[{'name': 'sql_db_list_tables', 'args': {}, 'id': 'tool_abcd123', 'type': 'tool_call'}]), ToolMessage(content='customers, employees, orders', name='sql_db_list_tables', id='da61ff3e-cc6d-410e-9e8d-0fb8f7c78490', tool_call_id='tool_abcd123'), AIMessage(content='', additional_kwargs={'tool_calls': [{'id': '4wgezv39g', 'function': {'arguments': '{\"table_names\":\"employees\"}', 'name': 'sql_db_schema'}, 'type': 'function'}]}, response_metadata={'token_usage': {'completion_tokens': 35, 'prompt_tokens': 1038, 'total_tokens': 1073, 'completion_time': 0.077958479, 'prompt_time': 0.083576711, 'queue_time': 0.271015269, 'total_time': 0.16153519}, 'model_name': 'llama3-70b-8192', 'system_fingerprint': 'fp_de9fa14705', 'service_tier': 'on_demand', 'finish_reason': 'tool_calls', 'logprobs': None}, id='run--04608d7a-5fb5-4ced-8575-efbc925447e6-0', tool_calls=[{'name': 'sql_db_schema', 'args': {'table_names': 'employees'}, 'id': '4wgezv39g', 'type': 'tool_call'}], usage_metadata={'input_tokens': 1038, 'output_tokens': 35, 'total_tokens': 1073}), ToolMessage(content='\\nCREATE TABLE employees (\\n\\temp_id INTEGER, \\n\\tfirst_name TEXT NOT NULL, \\n\\tlast_name TEXT NOT NULL, \\n\\temail TEXT NOT NULL, \\n\\thire_date TEXT NOT NULL, \\n\\tsalary REAL NOT NULL, \\n\\tPRIMARY KEY (emp_id), \\n\\tUNIQUE (email)\\n)\\n\\n/*\\n3 rows from employees table:\\nemp_id\\tfirst_name\\tlast_name\\temail\\thire_date\\tsalary\\n1\\temployee1\\tlast1\\temployee1@gmail.com\\t2021-01-01\\t10000.0\\n2\\temployee2\\tlast2\\temployee2@gmail.com\\t2022-02-01\\t20000.0\\n3\\temployee3\\tlast3\\temployee3@gmail.com\\t2023-03-01\\t30000.0\\n*/', name='sql_db_schema', id='72852924-494d-4231-ba44-c5f4734ac60e', tool_call_id='4wgezv39g')]}\n"
     ]
    },
    {
     "data": {
      "text/plain": [
       "'employee3 last3'"
      ]
     },
     "execution_count": 133,
     "metadata": {},
     "output_type": "execute_result"
    }
   ],
   "source": [
    "query={\"messages\": [(\"user\", \"Tell me name of the employee who's salary is more than 30000?\")]}\n",
    "response=app.invoke(query)\n",
    "response[\"messages\"][-1].tool_calls[0][\"args\"][\"final_answer\"]"
   ]
  },
  {
   "cell_type": "code",
   "execution_count": null,
   "id": "74d3c3ca",
   "metadata": {},
   "outputs": [],
   "source": []
  }
 ],
 "metadata": {
  "kernelspec": {
   "display_name": "Python 3",
   "language": "python",
   "name": "python3"
  },
  "language_info": {
   "codemirror_mode": {
    "name": "ipython",
    "version": 3
   },
   "file_extension": ".py",
   "mimetype": "text/x-python",
   "name": "python",
   "nbconvert_exporter": "python",
   "pygments_lexer": "ipython3",
   "version": "3.11.3"
  }
 },
 "nbformat": 4,
 "nbformat_minor": 5
}
